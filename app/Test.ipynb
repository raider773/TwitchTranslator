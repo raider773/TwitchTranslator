{
 "cells": [
  {
   "cell_type": "code",
   "execution_count": 1,
   "id": "bb34c7b5-13a6-4f54-a6a8-604aa9b957e8",
   "metadata": {},
   "outputs": [],
   "source": [
    "from scrapping.images import get_images\n",
    "from scrapping.box import get_box_labels"
   ]
  },
  {
   "cell_type": "markdown",
   "id": "2df7a2ab-c440-4b49-bdd8-d638505d964f",
   "metadata": {},
   "source": [
    "get_images()"
   ]
  },
  {
   "cell_type": "markdown",
   "id": "6d3b85dd-535c-4fc9-a1e7-a599348c48d4",
   "metadata": {},
   "source": [
    "get_box_labels()"
   ]
  },
  {
   "cell_type": "code",
   "execution_count": 2,
   "id": "7686ab52-57be-4c74-b57a-df07e214d3f1",
   "metadata": {},
   "outputs": [],
   "source": [
    "import pickle\n",
    "cosa = \"cropped_image_7\"\n",
    "image_path = f\"data/cropped/valorant_americas/{cosa}.png\"\n",
    "with open(f\"data/box/valorant_americas/{cosa}.pkl\", \"rb\") as box_dictionary_labels:\n",
    "    labels = pickle.load(box_dictionary_labels)"
   ]
  },
  {
   "cell_type": "code",
   "execution_count": 3,
   "id": "ea7a158e-fb6f-4bde-a2ed-2f86ee083060",
   "metadata": {},
   "outputs": [],
   "source": [
    "import numpy as np\n",
    "import re"
   ]
  },
  {
   "cell_type": "code",
   "execution_count": 4,
   "id": "560630a9-e6c0-4fc1-8def-af3bfb355126",
   "metadata": {},
   "outputs": [],
   "source": [
    "def remove_sided_rectangles(labels):\n",
    "    result = []\n",
    "    for i in labels:\n",
    "        top_left = i[0][0]\n",
    "        top_right = i[0][1]\n",
    "        bottom_right = i[0][2]\n",
    "        bottom_left = i[0][3]\n",
    "        if (top_left[1] == top_right[1]):       \n",
    "            result.append(i) \n",
    "    return result"
   ]
  },
  {
   "cell_type": "code",
   "execution_count": 5,
   "id": "abc495b0-e728-4d65-a8ca-869727c112be",
   "metadata": {},
   "outputs": [],
   "source": [
    "def fix_horizontal_boxes(labels):    \n",
    "    horizontal_sequences = []\n",
    "    current_horizontal_sequence = []\n",
    "    for i in range(len(labels) - 1):\n",
    "        top_left = labels[i][0][0]\n",
    "        top_right = labels[i][0][1]\n",
    "        bottom_right = labels[i][0][2]\n",
    "        bottom_left = labels[i][0][3]\n",
    "    \n",
    "        top_left_next = labels[i + 1][0][0]\n",
    "        top_right_next = labels[i + 1][0][1]\n",
    "        bottom_right_next = labels[i + 1][0][2]\n",
    "        bottom_left_next = labels[i + 1][0][3]\n",
    "    \n",
    "        if (np.abs(bottom_left_next[1] - bottom_right[1]) < 7) & (np.abs(top_left_next[1] - top_right[1]) < 7):\n",
    "            current_horizontal_sequence.append(i)\n",
    "        else:\n",
    "            if len(current_horizontal_sequence) > 0:\n",
    "                horizontal_sequences.append(current_horizontal_sequence)\n",
    "            current_horizontal_sequence = []\n",
    "    [i.append(i[-1] + 1) for i in horizontal_sequences]\n",
    "\n",
    "    changed_boxes_dict = {}\n",
    "\n",
    "    for sequence in horizontal_sequences:\n",
    "        \n",
    "        text = \" \"\n",
    "        y_bottom = -10000 \n",
    "        y_top = 10000   \n",
    "        x_left = 10000  \n",
    "        x_right = -10000 \n",
    "        \n",
    "        for index in sequence:    \n",
    "            top_left = labels[index][0][0]\n",
    "            top_right = labels[index][0][1]\n",
    "            bottom_right = labels[index][0][2]\n",
    "            bottom_left = labels[index][0][3]\n",
    "    \n",
    "            if bottom_left[1] > y_bottom:\n",
    "                y_bottom = bottom_left[1]\n",
    "                \n",
    "            if top_left[1] < y_top:\n",
    "                y_top = top_left[1]\n",
    "                \n",
    "            if top_left[0] < x_left:\n",
    "                x_left = top_left[0]\n",
    "                \n",
    "            if top_right[0] > x_right:\n",
    "                x_right = top_right[0]    \n",
    "                \n",
    "            text = text + labels[index][1] + \" \"\n",
    "            coordinates = [[x_left,y_top], [x_right,y_top], [x_right,y_bottom], [x_left,y_bottom]]\n",
    "        \n",
    "    \n",
    "        changed_boxes_dict[str(sequence)] = (coordinates, text)   \n",
    "\n",
    "\n",
    "    summed_text = \"\"\n",
    "    for i in changed_boxes_dict.keys():\n",
    "        summed_text = summed_text + i\n",
    "    indexes = re.findall(r'\\d+', summed_text)\n",
    "    indexes = [int(index) for index in indexes]\n",
    "\n",
    "    final_labels = []\n",
    "    \n",
    "    for i in range(len(labels)):\n",
    "        box, text = labels[i][0],labels[i][1]       \n",
    "        if i not in indexes:\n",
    "            final_labels.append((box,text))\n",
    "            \n",
    "    for v in changed_boxes_dict.values():\n",
    "        final_labels.append(v)\n",
    "    \n",
    "\n",
    "    return final_labels"
   ]
  },
  {
   "cell_type": "code",
   "execution_count": 6,
   "id": "8172e3e7-09a6-45d6-b619-aec7466b4cb4",
   "metadata": {},
   "outputs": [],
   "source": [
    "remove_sided_rectangles_labels = remove_sided_rectangles(labels)\n",
    "fix_horizontal_boxes_labels = fix_horizontal_boxes(remove_sided_rectangles_labels)"
   ]
  },
  {
   "cell_type": "code",
   "execution_count": 7,
   "id": "660ffb9a-76cb-4230-a00f-09afd23abf13",
   "metadata": {},
   "outputs": [],
   "source": [
    "import matplotlib.pyplot as plt"
   ]
  },
  {
   "cell_type": "code",
   "execution_count": 8,
   "id": "07f6f78e-812b-467c-94e7-393faca75b85",
   "metadata": {},
   "outputs": [],
   "source": [
    "import cv2\n",
    "import numpy as np"
   ]
  },
  {
   "cell_type": "code",
   "execution_count": 9,
   "id": "d44e9f81-41ee-44fb-8f65-caeee86b886a",
   "metadata": {},
   "outputs": [],
   "source": [
    "from PIL import Image\n",
    "import numpy as np"
   ]
  },
  {
   "cell_type": "code",
   "execution_count": 10,
   "id": "8fe1113a-9d8f-4d16-b2f5-fafa96502877",
   "metadata": {},
   "outputs": [
    {
     "data": {
      "text/plain": [
       "True"
      ]
     },
     "execution_count": 10,
     "metadata": {},
     "output_type": "execute_result"
    }
   ],
   "source": [
    "\n",
    "img = cv2.imread(image_path)\n",
    "\n",
    "# Draw bounding boxes and text\n",
    "for box, text in fix_horizontal_boxes_labels:\n",
    "    # Convert box to numpy array and ensure integer type\n",
    "    pts = np.array(box, np.int32)\n",
    "    pts = pts.reshape((-1, 1, 2))\n",
    "\n",
    "    # Draw bounding box\n",
    "    cv2.polylines(img, [pts], isClosed=True, color=(0, 255, 0), thickness=2)\n",
    "\n",
    "    # Add text\n",
    "    org = (int(box[0][0]), int(box[0][1]) - 5)  # Ensure coordinates are integers\n",
    "    cv2.putText(img, text, org, cv2.FONT_HERSHEY_SIMPLEX, 0.5, (255, 0, 0), 2)\n",
    "\n",
    "# Save the image with bounding boxes and text\n",
    "cv2.imwrite(\"image_with_boxes_and_text.jpg\", img)"
   ]
  },
  {
   "cell_type": "code",
   "execution_count": null,
   "id": "a76369f9-9735-4450-ab99-defd99e0f398",
   "metadata": {},
   "outputs": [],
   "source": []
  }
 ],
 "metadata": {
  "kernelspec": {
   "display_name": "Python 3 (ipykernel)",
   "language": "python",
   "name": "python3"
  },
  "language_info": {
   "codemirror_mode": {
    "name": "ipython",
    "version": 3
   },
   "file_extension": ".py",
   "mimetype": "text/x-python",
   "name": "python",
   "nbconvert_exporter": "python",
   "pygments_lexer": "ipython3",
   "version": "3.9.18"
  }
 },
 "nbformat": 4,
 "nbformat_minor": 5
}
