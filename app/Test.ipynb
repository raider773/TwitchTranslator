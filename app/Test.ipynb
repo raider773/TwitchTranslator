{
 "cells": [
  {
   "cell_type": "markdown",
   "id": "178d9c20-b1db-4f20-8359-b479f8984416",
   "metadata": {},
   "source": [
    "from scrapping.images import get_images"
   ]
  },
  {
   "cell_type": "markdown",
   "id": "fed49a81-df09-4798-913a-65654f2258a5",
   "metadata": {
    "collapsed": true,
    "jupyter": {
     "outputs_hidden": true
    }
   },
   "source": [
    "get_images()"
   ]
  },
  {
   "cell_type": "code",
   "execution_count": null,
   "id": "cb893373-ff33-4864-bb94-5d703e906c38",
   "metadata": {},
   "outputs": [],
   "source": [
    "import easyocr\n",
    "reader = easyocr.Reader(['en','en'])"
   ]
  },
  {
   "cell_type": "code",
   "execution_count": null,
   "id": "cd7712a7-067a-4c58-a7b8-78ca0fc20283",
   "metadata": {},
   "outputs": [],
   "source": [
    "result = reader.readtext('ActualPicture.JPG')"
   ]
  },
  {
   "cell_type": "code",
   "execution_count": null,
   "id": "dcb91daf-fa15-4009-8938-de4c563f13fc",
   "metadata": {},
   "outputs": [],
   "source": []
  },
  {
   "cell_type": "code",
   "execution_count": null,
   "id": "71fce5dc-6efe-4a23-bd13-1a1ca2588bc4",
   "metadata": {},
   "outputs": [],
   "source": []
  },
  {
   "cell_type": "code",
   "execution_count": null,
   "id": "002181ad-b7ba-4fa5-8975-5377a844170e",
   "metadata": {},
   "outputs": [],
   "source": []
  }
 ],
 "metadata": {
  "kernelspec": {
   "display_name": "Python 3 (ipykernel)",
   "language": "python",
   "name": "python3"
  },
  "language_info": {
   "codemirror_mode": {
    "name": "ipython",
    "version": 3
   },
   "file_extension": ".py",
   "mimetype": "text/x-python",
   "name": "python",
   "nbconvert_exporter": "python",
   "pygments_lexer": "ipython3",
   "version": "3.9.18"
  }
 },
 "nbformat": 4,
 "nbformat_minor": 5
}
