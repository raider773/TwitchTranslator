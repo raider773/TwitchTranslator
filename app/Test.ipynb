{
 "cells": [
  {
   "cell_type": "markdown",
   "id": "62bfc385-683e-4b53-a819-992c92a905d8",
   "metadata": {},
   "source": [
    "from scrapping.images import get_images\n",
    "from scrapping.box import get_box_labels"
   ]
  },
  {
   "cell_type": "markdown",
   "id": "89002412-c1cb-4439-9d78-5e81e1256bc9",
   "metadata": {
    "collapsed": true,
    "jupyter": {
     "outputs_hidden": true
    }
   },
   "source": [
    "get_images()"
   ]
  },
  {
   "cell_type": "markdown",
   "id": "229b2200-4ab6-4913-9c40-2f5fff00bd4e",
   "metadata": {
    "collapsed": true,
    "jupyter": {
     "outputs_hidden": true
    }
   },
   "source": [
    "get_box_labels()"
   ]
  },
  {
   "cell_type": "code",
   "execution_count": 1,
   "id": "2bff482e-1c9c-4b3b-ad96-2f3d5080163b",
   "metadata": {},
   "outputs": [],
   "source": [
    "from PIL import Image\n",
    "import numpy as np\n",
    "image_path = \"data/cropped/zackrawrr/cropped_image_5.png\"\n",
    "image = Image.open(image_path)\n",
    "image_array = np.array(image)"
   ]
  },
  {
   "cell_type": "code",
   "execution_count": 2,
   "id": "9506d38e-ee1e-4b36-9557-175e618565e2",
   "metadata": {},
   "outputs": [],
   "source": [
    "import pickle\n",
    "with open(\"data/box/zackrawrr/cropped_image_5.pkl\", \"rb\") as box_dictionary_labels:\n",
    "    labels = pickle.load(box_dictionary_labels)"
   ]
  },
  {
   "cell_type": "code",
   "execution_count": null,
   "id": "93c26a25-831d-4b3d-b432-b747c7392e12",
   "metadata": {},
   "outputs": [],
   "source": []
  },
  {
   "cell_type": "code",
   "execution_count": 3,
   "id": "d7d05780-dafc-4c99-8f97-03a943dca02c",
   "metadata": {},
   "outputs": [],
   "source": [
    "#me fijo si alguno de los 2 bottom corners esta pegado a alguno de los 2 top corner del siguiente\n",
    "#comparas los ultimos 2 con los primeros 2 del siguiente\n",
    "\n",
    "#tien que ser alguno de los 2 "
   ]
  },
  {
   "cell_type": "code",
   "execution_count": 4,
   "id": "53d0b26b-59de-4eac-af67-e555b57849e2",
   "metadata": {},
   "outputs": [],
   "source": [
    "#primero compara horizontalmente\n",
    "\n",
    "#comparo top izquierdo con top derecho"
   ]
  },
  {
   "cell_type": "code",
   "execution_count": 5,
   "id": "5d1fb6cd-d3f1-4a7f-a6ec-74f891ade749",
   "metadata": {},
   "outputs": [],
   "source": [
    "saved_index = []\n",
    "for result_index in range(len(labels)-1):\n",
    "    if (np.absolute(labels[result_index + 1][0][0][0] - labels[result_index][0][1][0])) < 30:\n",
    "        saved_index.append(result_index)"
   ]
  },
  {
   "cell_type": "code",
   "execution_count": 14,
   "id": "17b5e8f2-a99f-42b9-ae95-8a3a4e1e9dac",
   "metadata": {},
   "outputs": [],
   "source": [
    "for index in saved_index:\n",
    "    upper_y_first = labels[index][0][0][1] \n",
    "    upper_y_second = labels[index + 1][0][0][1]\n",
    "    lower_y_first = labels[index][0][2][1]\n",
    "    lower_y_second = labels[index + 1][0][2][1]    \n",
    "    \n",
    "    labels[index][0][1] = labels[index + 1][0][1]\n",
    "    labels[index][0][2] = labels[index + 1][0][2]  \n",
    "\n",
    "    labels[index][0][0][1] = max(upper_y_first,upper_y_second)\n",
    "    labels[index][0][1][1] = max(upper_y_first,upper_y_second)\n",
    "    labels[index][0][2][1] = min(lower_y_first,lower_y_second)\n",
    "    labels[index][0][3][1] = min(lower_y_first,lower_y_second)\n",
    "\n",
    "    mutable_list = list(labels[index])\n",
    "    new_string = labels[index][1] + \" \" + labels[index + 1][1]    \n",
    "    mutable_list[1] = new_string\n",
    "    labels[index] = mutable_list\n"
   ]
  },
  {
   "cell_type": "code",
   "execution_count": null,
   "id": "e45543d4-acfd-457a-b846-ee661176b8e8",
   "metadata": {},
   "outputs": [],
   "source": [
    "#los puntos de la izquierda del index pasan a ser los puntos de la izquierda del index del siguiente. el texo pasa a ser la conbinacion de los 2\n",
    "\n",
    "\n",
    "#falta que sea una caja bien"
   ]
  },
  {
   "cell_type": "code",
   "execution_count": null,
   "id": "eff5628d-6c9b-425b-ad5a-681b9fab7b83",
   "metadata": {},
   "outputs": [],
   "source": [
    "#for result_index in range(len(labels)):\n",
    "#    if (labels[result_index + 1][0][0][1] - labels[result_index][0][3][1]) < 10:\n",
    "#        print(result_index + 1)\n",
    "    \n",
    "    \n",
    "    #comparacion bottom derecha con top derecha del siguiente\n",
    "   # print(labels[result_index][0][3][1])              \n",
    "   # print(labels[result_index + 1][0][0][1])\n",
    "   # print(\"------\")\n",
    "\n",
    "\n",
    "                                            #comparacion bottom izquierda con top izquierda del siguiente"
   ]
  },
  {
   "cell_type": "code",
   "execution_count": null,
   "id": "7464fc0e-ef2c-4d57-888e-0a9f2abe5a1d",
   "metadata": {},
   "outputs": [],
   "source": []
  },
  {
   "cell_type": "code",
   "execution_count": null,
   "id": "660ffb9a-76cb-4230-a00f-09afd23abf13",
   "metadata": {},
   "outputs": [],
   "source": [
    "import matplotlib.pyplot as plt"
   ]
  },
  {
   "cell_type": "code",
   "execution_count": null,
   "id": "07f6f78e-812b-467c-94e7-393faca75b85",
   "metadata": {},
   "outputs": [],
   "source": [
    "import cv2\n",
    "import numpy as np"
   ]
  },
  {
   "cell_type": "code",
   "execution_count": null,
   "id": "8fe1113a-9d8f-4d16-b2f5-fafa96502877",
   "metadata": {},
   "outputs": [],
   "source": [
    "\n",
    "img = cv2.imread(image_path)\n",
    "\n",
    "# Draw bounding boxes and text\n",
    "for box, text, _ in labels:\n",
    "    # Convert box to numpy array and ensure integer type\n",
    "    pts = np.array(box, np.int32)\n",
    "    pts = pts.reshape((-1, 1, 2))\n",
    "\n",
    "    # Draw bounding box\n",
    "    cv2.polylines(img, [pts], isClosed=True, color=(0, 255, 0), thickness=2)\n",
    "\n",
    "    # Add text\n",
    "    org = (int(box[0][0]), int(box[0][1]) - 5)  # Ensure coordinates are integers\n",
    "    cv2.putText(img, text, org, cv2.FONT_HERSHEY_SIMPLEX, 0.5, (255, 0, 0), 2)\n",
    "\n",
    "# Save the image with bounding boxes and text\n",
    "cv2.imwrite(\"image_with_boxes_and_text.jpg\", img)"
   ]
  },
  {
   "cell_type": "code",
   "execution_count": null,
   "id": "c96ac6ba-6ace-43ec-908e-68b6daf3c1c2",
   "metadata": {},
   "outputs": [],
   "source": []
  }
 ],
 "metadata": {
  "kernelspec": {
   "display_name": "Python 3 (ipykernel)",
   "language": "python",
   "name": "python3"
  },
  "language_info": {
   "codemirror_mode": {
    "name": "ipython",
    "version": 3
   },
   "file_extension": ".py",
   "mimetype": "text/x-python",
   "name": "python",
   "nbconvert_exporter": "python",
   "pygments_lexer": "ipython3",
   "version": "3.9.18"
  }
 },
 "nbformat": 4,
 "nbformat_minor": 5
}
