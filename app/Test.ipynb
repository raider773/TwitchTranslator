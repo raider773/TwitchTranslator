{
 "cells": [
  {
   "cell_type": "code",
   "execution_count": 1,
   "id": "24281777-c239-402c-94ac-e47bd3f33a13",
   "metadata": {},
   "outputs": [],
   "source": [
    "from scrapping.images import get_images\n",
    "from scrapping.box import get_box_labels"
   ]
  },
  {
   "cell_type": "markdown",
   "id": "89002412-c1cb-4439-9d78-5e81e1256bc9",
   "metadata": {
    "collapsed": true,
    "jupyter": {
     "outputs_hidden": true
    }
   },
   "source": [
    "get_images()"
   ]
  },
  {
   "cell_type": "code",
   "execution_count": 2,
   "id": "c1d74ea5-034a-4b4d-a1b9-6ddc9eec8b30",
   "metadata": {
    "collapsed": true,
    "jupyter": {
     "outputs_hidden": true
    }
   },
   "outputs": [
    {
     "name": "stderr",
     "output_type": "stream",
     "text": [
      "\u001b[32m2024-02-12 00:20:15.204\u001b[0m | \u001b[1mINFO    \u001b[0m | \u001b[36mscrapping.box\u001b[0m:\u001b[36mget_box_labels\u001b[0m:\u001b[36m35\u001b[0m - \u001b[1mCreated OCR\u001b[0m\n",
      "\u001b[32m2024-02-12 00:20:15.207\u001b[0m | \u001b[1mINFO    \u001b[0m | \u001b[36mscrapping.box\u001b[0m:\u001b[36mget_box_labels\u001b[0m:\u001b[36m37\u001b[0m - \u001b[1mStreams: ['distortion2', 'summit1g', 'zackrawrr']\u001b[0m\n",
      "\u001b[32m2024-02-12 00:20:15.207\u001b[0m | \u001b[1mINFO    \u001b[0m | \u001b[36mscrapping.box\u001b[0m:\u001b[36mget_box_labels\u001b[0m:\u001b[36m39\u001b[0m - \u001b[1mGetting labels of distortion2\u001b[0m\n",
      "\u001b[32m2024-02-12 00:20:15.208\u001b[0m | \u001b[1mINFO    \u001b[0m | \u001b[36mscrapping.box\u001b[0m:\u001b[36mget_streamer_labels\u001b[0m:\u001b[36m13\u001b[0m - \u001b[1mImages of streamer distortion2: ['cropped_image_0.png', 'cropped_image_1.png', 'cropped_image_10.png', 'cropped_image_11.png', 'cropped_image_2.png', 'cropped_image_3.png', 'cropped_image_4.png', 'cropped_image_5.png', 'cropped_image_6.png', 'cropped_image_7.png', 'cropped_image_8.png', 'cropped_image_9.png']\u001b[0m\n",
      "\u001b[32m2024-02-12 00:20:15.210\u001b[0m | \u001b[1mINFO    \u001b[0m | \u001b[36mscrapping.box\u001b[0m:\u001b[36mget_streamer_labels\u001b[0m:\u001b[36m18\u001b[0m - \u001b[1mUsing batch size of 10\u001b[0m\n",
      "\u001b[32m2024-02-12 00:20:15.211\u001b[0m | \u001b[1mINFO    \u001b[0m | \u001b[36mscrapping.box\u001b[0m:\u001b[36mget_streamer_labels\u001b[0m:\u001b[36m20\u001b[0m - \u001b[1mAmount of batches: 2\u001b[0m\n",
      "\u001b[32m2024-02-12 00:20:15.211\u001b[0m | \u001b[1mINFO    \u001b[0m | \u001b[36mscrapping.box\u001b[0m:\u001b[36mget_streamer_labels\u001b[0m:\u001b[36m24\u001b[0m - \u001b[1mStreamer: distortion2, Batch: ['data/cropped/distortion2/cropped_image_0.png', 'data/cropped/distortion2/cropped_image_1.png', 'data/cropped/distortion2/cropped_image_10.png', 'data/cropped/distortion2/cropped_image_11.png', 'data/cropped/distortion2/cropped_image_2.png', 'data/cropped/distortion2/cropped_image_3.png', 'data/cropped/distortion2/cropped_image_4.png', 'data/cropped/distortion2/cropped_image_5.png', 'data/cropped/distortion2/cropped_image_6.png', 'data/cropped/distortion2/cropped_image_7.png']\u001b[0m\n",
      "\u001b[32m2024-02-12 00:20:27.594\u001b[0m | \u001b[1mINFO    \u001b[0m | \u001b[36mscrapping.box\u001b[0m:\u001b[36mget_streamer_labels\u001b[0m:\u001b[36m26\u001b[0m - \u001b[1mCreating Dictionary\u001b[0m\n",
      "\u001b[32m2024-02-12 00:20:27.595\u001b[0m | \u001b[1mINFO    \u001b[0m | \u001b[36mscrapping.box\u001b[0m:\u001b[36mget_streamer_labels\u001b[0m:\u001b[36m29\u001b[0m - \u001b[1mBatch successfull\u001b[0m\n",
      "\u001b[32m2024-02-12 00:20:27.596\u001b[0m | \u001b[1mINFO    \u001b[0m | \u001b[36mscrapping.box\u001b[0m:\u001b[36mget_streamer_labels\u001b[0m:\u001b[36m24\u001b[0m - \u001b[1mStreamer: distortion2, Batch: ['data/cropped/distortion2/cropped_image_8.png', 'data/cropped/distortion2/cropped_image_9.png']\u001b[0m\n",
      "\u001b[32m2024-02-12 00:20:30.135\u001b[0m | \u001b[1mINFO    \u001b[0m | \u001b[36mscrapping.box\u001b[0m:\u001b[36mget_streamer_labels\u001b[0m:\u001b[36m26\u001b[0m - \u001b[1mCreating Dictionary\u001b[0m\n",
      "\u001b[32m2024-02-12 00:20:30.136\u001b[0m | \u001b[1mINFO    \u001b[0m | \u001b[36mscrapping.box\u001b[0m:\u001b[36mget_streamer_labels\u001b[0m:\u001b[36m29\u001b[0m - \u001b[1mBatch successfull\u001b[0m\n",
      "\u001b[32m2024-02-12 00:20:30.138\u001b[0m | \u001b[1mINFO    \u001b[0m | \u001b[36mutils.utils\u001b[0m:\u001b[36mcreate_folder_if_not_exists\u001b[0m:\u001b[36m12\u001b[0m - \u001b[1mFolder 'data/box/distortion2' created\u001b[0m\n",
      "\u001b[32m2024-02-12 00:20:30.139\u001b[0m | \u001b[1mINFO    \u001b[0m | \u001b[36mscrapping.box\u001b[0m:\u001b[36mget_box_labels\u001b[0m:\u001b[36m43\u001b[0m - \u001b[1mWriting results to data/box/distortion2/labels\u001b[0m\n",
      "\u001b[32m2024-02-12 00:20:30.147\u001b[0m | \u001b[1mINFO    \u001b[0m | \u001b[36mscrapping.box\u001b[0m:\u001b[36mget_box_labels\u001b[0m:\u001b[36m46\u001b[0m - \u001b[1mSuccessfully written results todata/box/distortion2/labels\u001b[0m\n",
      "\u001b[32m2024-02-12 00:20:30.148\u001b[0m | \u001b[1mINFO    \u001b[0m | \u001b[36mscrapping.box\u001b[0m:\u001b[36mget_box_labels\u001b[0m:\u001b[36m39\u001b[0m - \u001b[1mGetting labels of summit1g\u001b[0m\n",
      "\u001b[32m2024-02-12 00:20:30.150\u001b[0m | \u001b[1mINFO    \u001b[0m | \u001b[36mscrapping.box\u001b[0m:\u001b[36mget_streamer_labels\u001b[0m:\u001b[36m13\u001b[0m - \u001b[1mImages of streamer summit1g: ['cropped_image_0.png', 'cropped_image_1.png', 'cropped_image_10.png', 'cropped_image_11.png', 'cropped_image_2.png', 'cropped_image_3.png', 'cropped_image_4.png', 'cropped_image_5.png', 'cropped_image_6.png', 'cropped_image_7.png', 'cropped_image_8.png', 'cropped_image_9.png']\u001b[0m\n",
      "\u001b[32m2024-02-12 00:20:30.151\u001b[0m | \u001b[1mINFO    \u001b[0m | \u001b[36mscrapping.box\u001b[0m:\u001b[36mget_streamer_labels\u001b[0m:\u001b[36m18\u001b[0m - \u001b[1mUsing batch size of 10\u001b[0m\n",
      "\u001b[32m2024-02-12 00:20:30.152\u001b[0m | \u001b[1mINFO    \u001b[0m | \u001b[36mscrapping.box\u001b[0m:\u001b[36mget_streamer_labels\u001b[0m:\u001b[36m20\u001b[0m - \u001b[1mAmount of batches: 2\u001b[0m\n",
      "\u001b[32m2024-02-12 00:20:30.153\u001b[0m | \u001b[1mINFO    \u001b[0m | \u001b[36mscrapping.box\u001b[0m:\u001b[36mget_streamer_labels\u001b[0m:\u001b[36m24\u001b[0m - \u001b[1mStreamer: summit1g, Batch: ['data/cropped/summit1g/cropped_image_0.png', 'data/cropped/summit1g/cropped_image_1.png', 'data/cropped/summit1g/cropped_image_10.png', 'data/cropped/summit1g/cropped_image_11.png', 'data/cropped/summit1g/cropped_image_2.png', 'data/cropped/summit1g/cropped_image_3.png', 'data/cropped/summit1g/cropped_image_4.png', 'data/cropped/summit1g/cropped_image_5.png', 'data/cropped/summit1g/cropped_image_6.png', 'data/cropped/summit1g/cropped_image_7.png']\u001b[0m\n",
      "\u001b[32m2024-02-12 00:20:36.091\u001b[0m | \u001b[1mINFO    \u001b[0m | \u001b[36mscrapping.box\u001b[0m:\u001b[36mget_streamer_labels\u001b[0m:\u001b[36m26\u001b[0m - \u001b[1mCreating Dictionary\u001b[0m\n",
      "\u001b[32m2024-02-12 00:20:36.092\u001b[0m | \u001b[1mINFO    \u001b[0m | \u001b[36mscrapping.box\u001b[0m:\u001b[36mget_streamer_labels\u001b[0m:\u001b[36m29\u001b[0m - \u001b[1mBatch successfull\u001b[0m\n",
      "\u001b[32m2024-02-12 00:20:36.093\u001b[0m | \u001b[1mINFO    \u001b[0m | \u001b[36mscrapping.box\u001b[0m:\u001b[36mget_streamer_labels\u001b[0m:\u001b[36m24\u001b[0m - \u001b[1mStreamer: summit1g, Batch: ['data/cropped/summit1g/cropped_image_8.png', 'data/cropped/summit1g/cropped_image_9.png']\u001b[0m\n",
      "\u001b[32m2024-02-12 00:20:37.381\u001b[0m | \u001b[1mINFO    \u001b[0m | \u001b[36mscrapping.box\u001b[0m:\u001b[36mget_streamer_labels\u001b[0m:\u001b[36m26\u001b[0m - \u001b[1mCreating Dictionary\u001b[0m\n",
      "\u001b[32m2024-02-12 00:20:37.382\u001b[0m | \u001b[1mINFO    \u001b[0m | \u001b[36mscrapping.box\u001b[0m:\u001b[36mget_streamer_labels\u001b[0m:\u001b[36m29\u001b[0m - \u001b[1mBatch successfull\u001b[0m\n",
      "\u001b[32m2024-02-12 00:20:37.384\u001b[0m | \u001b[1mINFO    \u001b[0m | \u001b[36mutils.utils\u001b[0m:\u001b[36mcreate_folder_if_not_exists\u001b[0m:\u001b[36m12\u001b[0m - \u001b[1mFolder 'data/box/summit1g' created\u001b[0m\n",
      "\u001b[32m2024-02-12 00:20:37.385\u001b[0m | \u001b[1mINFO    \u001b[0m | \u001b[36mscrapping.box\u001b[0m:\u001b[36mget_box_labels\u001b[0m:\u001b[36m43\u001b[0m - \u001b[1mWriting results to data/box/summit1g/labels\u001b[0m\n",
      "\u001b[32m2024-02-12 00:20:37.391\u001b[0m | \u001b[1mINFO    \u001b[0m | \u001b[36mscrapping.box\u001b[0m:\u001b[36mget_box_labels\u001b[0m:\u001b[36m46\u001b[0m - \u001b[1mSuccessfully written results todata/box/summit1g/labels\u001b[0m\n",
      "\u001b[32m2024-02-12 00:20:37.392\u001b[0m | \u001b[1mINFO    \u001b[0m | \u001b[36mscrapping.box\u001b[0m:\u001b[36mget_box_labels\u001b[0m:\u001b[36m39\u001b[0m - \u001b[1mGetting labels of zackrawrr\u001b[0m\n",
      "\u001b[32m2024-02-12 00:20:37.393\u001b[0m | \u001b[1mINFO    \u001b[0m | \u001b[36mscrapping.box\u001b[0m:\u001b[36mget_streamer_labels\u001b[0m:\u001b[36m13\u001b[0m - \u001b[1mImages of streamer zackrawrr: ['.ipynb_checkpoints', 'cropped_image_0.png', 'cropped_image_1.png', 'cropped_image_10.png', 'cropped_image_11.png', 'cropped_image_2.png', 'cropped_image_3.png', 'cropped_image_4.png', 'cropped_image_5.png', 'cropped_image_6.png', 'cropped_image_7.png', 'cropped_image_8.png', 'cropped_image_9.png']\u001b[0m\n",
      "\u001b[32m2024-02-12 00:20:37.394\u001b[0m | \u001b[1mINFO    \u001b[0m | \u001b[36mscrapping.box\u001b[0m:\u001b[36mget_streamer_labels\u001b[0m:\u001b[36m18\u001b[0m - \u001b[1mUsing batch size of 10\u001b[0m\n",
      "\u001b[32m2024-02-12 00:20:37.395\u001b[0m | \u001b[1mINFO    \u001b[0m | \u001b[36mscrapping.box\u001b[0m:\u001b[36mget_streamer_labels\u001b[0m:\u001b[36m20\u001b[0m - \u001b[1mAmount of batches: 2\u001b[0m\n",
      "\u001b[32m2024-02-12 00:20:37.396\u001b[0m | \u001b[1mINFO    \u001b[0m | \u001b[36mscrapping.box\u001b[0m:\u001b[36mget_streamer_labels\u001b[0m:\u001b[36m24\u001b[0m - \u001b[1mStreamer: zackrawrr, Batch: ['data/cropped/zackrawrr/cropped_image_0.png', 'data/cropped/zackrawrr/cropped_image_1.png', 'data/cropped/zackrawrr/cropped_image_10.png', 'data/cropped/zackrawrr/cropped_image_11.png', 'data/cropped/zackrawrr/cropped_image_2.png', 'data/cropped/zackrawrr/cropped_image_3.png', 'data/cropped/zackrawrr/cropped_image_4.png', 'data/cropped/zackrawrr/cropped_image_5.png', 'data/cropped/zackrawrr/cropped_image_6.png', 'data/cropped/zackrawrr/cropped_image_7.png']\u001b[0m\n",
      "\u001b[32m2024-02-12 00:20:42.581\u001b[0m | \u001b[1mINFO    \u001b[0m | \u001b[36mscrapping.box\u001b[0m:\u001b[36mget_streamer_labels\u001b[0m:\u001b[36m26\u001b[0m - \u001b[1mCreating Dictionary\u001b[0m\n",
      "\u001b[32m2024-02-12 00:20:42.582\u001b[0m | \u001b[1mINFO    \u001b[0m | \u001b[36mscrapping.box\u001b[0m:\u001b[36mget_streamer_labels\u001b[0m:\u001b[36m29\u001b[0m - \u001b[1mBatch successfull\u001b[0m\n",
      "\u001b[32m2024-02-12 00:20:42.583\u001b[0m | \u001b[1mINFO    \u001b[0m | \u001b[36mscrapping.box\u001b[0m:\u001b[36mget_streamer_labels\u001b[0m:\u001b[36m24\u001b[0m - \u001b[1mStreamer: zackrawrr, Batch: ['data/cropped/zackrawrr/cropped_image_8.png', 'data/cropped/zackrawrr/cropped_image_9.png']\u001b[0m\n",
      "\u001b[32m2024-02-12 00:20:43.697\u001b[0m | \u001b[1mINFO    \u001b[0m | \u001b[36mscrapping.box\u001b[0m:\u001b[36mget_streamer_labels\u001b[0m:\u001b[36m26\u001b[0m - \u001b[1mCreating Dictionary\u001b[0m\n",
      "\u001b[32m2024-02-12 00:20:43.698\u001b[0m | \u001b[1mINFO    \u001b[0m | \u001b[36mscrapping.box\u001b[0m:\u001b[36mget_streamer_labels\u001b[0m:\u001b[36m29\u001b[0m - \u001b[1mBatch successfull\u001b[0m\n",
      "\u001b[32m2024-02-12 00:20:43.700\u001b[0m | \u001b[1mINFO    \u001b[0m | \u001b[36mutils.utils\u001b[0m:\u001b[36mcreate_folder_if_not_exists\u001b[0m:\u001b[36m12\u001b[0m - \u001b[1mFolder 'data/box/zackrawrr' created\u001b[0m\n",
      "\u001b[32m2024-02-12 00:20:43.701\u001b[0m | \u001b[1mINFO    \u001b[0m | \u001b[36mscrapping.box\u001b[0m:\u001b[36mget_box_labels\u001b[0m:\u001b[36m43\u001b[0m - \u001b[1mWriting results to data/box/zackrawrr/labels\u001b[0m\n",
      "\u001b[32m2024-02-12 00:20:43.705\u001b[0m | \u001b[1mINFO    \u001b[0m | \u001b[36mscrapping.box\u001b[0m:\u001b[36mget_box_labels\u001b[0m:\u001b[36m46\u001b[0m - \u001b[1mSuccessfully written results todata/box/zackrawrr/labels\u001b[0m\n"
     ]
    }
   ],
   "source": [
    "get_box_labels()"
   ]
  },
  {
   "cell_type": "code",
   "execution_count": null,
   "id": "9506d38e-ee1e-4b36-9557-175e618565e2",
   "metadata": {},
   "outputs": [],
   "source": []
  },
  {
   "cell_type": "code",
   "execution_count": null,
   "id": "660ffb9a-76cb-4230-a00f-09afd23abf13",
   "metadata": {},
   "outputs": [],
   "source": []
  },
  {
   "cell_type": "code",
   "execution_count": null,
   "id": "9581dcd5-6305-4377-b67b-4d675a2a2394",
   "metadata": {},
   "outputs": [],
   "source": []
  },
  {
   "cell_type": "code",
   "execution_count": null,
   "id": "89cab98f-39f2-43a3-9da9-cd7615b0ca7c",
   "metadata": {},
   "outputs": [],
   "source": []
  },
  {
   "cell_type": "code",
   "execution_count": null,
   "id": "24b97ed8-bcaa-48e8-a2dd-9d86216e9aba",
   "metadata": {},
   "outputs": [],
   "source": []
  },
  {
   "cell_type": "code",
   "execution_count": null,
   "id": "f4e84c03-131b-4461-a13b-f94434835aaa",
   "metadata": {},
   "outputs": [],
   "source": []
  },
  {
   "cell_type": "code",
   "execution_count": null,
   "id": "a5f02c7f-1790-405b-afa6-7f5f5b37eed3",
   "metadata": {},
   "outputs": [],
   "source": [
    "from os import listdir\n",
    "import pickle\n",
    "import easyocr\n",
    "\n",
    "from conf.settings import Settings"
   ]
  },
  {
   "cell_type": "code",
   "execution_count": null,
   "id": "3c8ba148-44c9-4e85-9cc3-d1361908791a",
   "metadata": {},
   "outputs": [],
   "source": [
    "settings = Settings()"
   ]
  },
  {
   "cell_type": "code",
   "execution_count": null,
   "id": "c7b001e4-f03b-44d3-9c93-38c013f393c4",
   "metadata": {},
   "outputs": [],
   "source": [
    "reader = easyocr.Reader(['en'],cudnn_benchmark=True)"
   ]
  },
  {
   "cell_type": "code",
   "execution_count": null,
   "id": "06eb7b27-507d-4a8c-841f-9fe23dfdcdf8",
   "metadata": {},
   "outputs": [],
   "source": [
    "streams = listdir(settings.cropped_folder)"
   ]
  },
  {
   "cell_type": "code",
   "execution_count": null,
   "id": "f08befcf-e7a2-4347-a183-55858eb616a1",
   "metadata": {},
   "outputs": [],
   "source": [
    "def get_streamer_labels(streamer,batch_size):\n",
    "    images = listdir(f\"{settings.cropped_folder}/{streamer}\")    \n",
    "    if '.ipynb_checkpoints' in images:\n",
    "        images.remove('.ipynb_checkpoints')    \n",
    "    images_folder = [f\"{settings.cropped_folder}/{streamer}/{image}\" for image in images]\n",
    "\n",
    "    batches = [images_folder[i:i+batch_size] for i in range(0, len(images_folder), batch_size)]\n",
    "    streamer_result = {}\n",
    "    for batch in batches:  \n",
    "        batch_result = reader.readtext_batched(batch)    \n",
    "        result_dict = {key: value for key, value in zip(batch, batch_result)}\n",
    "        streamer_result.update(result_dict)\n",
    "    return streamer_result"
   ]
  },
  {
   "cell_type": "code",
   "execution_count": null,
   "id": "2117f82c-b287-404f-9beb-fef9b0ad5baa",
   "metadata": {},
   "outputs": [],
   "source": [
    "ok = get_streamer_labels(streams[0],5)"
   ]
  },
  {
   "cell_type": "code",
   "execution_count": null,
   "id": "72655164-a7ed-4363-b4fc-ad4f51582998",
   "metadata": {},
   "outputs": [],
   "source": [
    "with open(\"prueba\", \"wb\") as fp:   \n",
    "    pickle.dump(result, fp)"
   ]
  },
  {
   "cell_type": "code",
   "execution_count": null,
   "id": "079f33c7-30d7-4207-b975-4081cabb47a1",
   "metadata": {},
   "outputs": [],
   "source": []
  }
 ],
 "metadata": {
  "kernelspec": {
   "display_name": "Python 3 (ipykernel)",
   "language": "python",
   "name": "python3"
  },
  "language_info": {
   "codemirror_mode": {
    "name": "ipython",
    "version": 3
   },
   "file_extension": ".py",
   "mimetype": "text/x-python",
   "name": "python",
   "nbconvert_exporter": "python",
   "pygments_lexer": "ipython3",
   "version": "3.9.18"
  }
 },
 "nbformat": 4,
 "nbformat_minor": 5
}
